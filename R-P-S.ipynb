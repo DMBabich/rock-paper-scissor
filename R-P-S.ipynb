{
 "cells": [
  {
   "cell_type": "code",
   "execution_count": 1,
   "metadata": {},
   "outputs": [
    {
     "name": "stdout",
     "output_type": "stream",
     "text": [
      "2.1.0\n"
     ]
    }
   ],
   "source": [
    "#эта строка вызывается везде\n",
    "#from __future__ import absolute_import, division, print_function, unicode_literals\n",
    "\n",
    "# TensorFlow и tf.keras\n",
    "import tensorflow as tf\n",
    "\n",
    "# Вспомогательные библиотеки\n",
    "import numpy as np\n",
    "import matplotlib.pyplot as plt\n",
    "import os\n",
    "\n",
    "tf.keras.backend.clear_session()  # For easy reset of notebook state.\n",
    "print(tf.__version__)\n",
    "# CPU == 2.0.0 +\n",
    "# GPU == 2.0.0 +"
   ]
  },
  {
   "cell_type": "code",
   "execution_count": 2,
   "metadata": {},
   "outputs": [],
   "source": [
    "from tensorflow import keras\n",
    "import keras_preprocessing\n",
    "from keras_preprocessing import image\n",
    "from keras_preprocessing.image import ImageDataGenerator\n"
   ]
  },
  {
   "cell_type": "code",
   "execution_count": 3,
   "metadata": {},
   "outputs": [
    {
     "name": "stdout",
     "output_type": "stream",
     "text": [
      "Found 2520 images belonging to 3 classes.\n",
      "Found 372 images belonging to 3 classes.\n"
     ]
    }
   ],
   "source": [
    "train_dir = r'C:\\Datasets\\RPC-Tensorflow\\rps'\n",
    "train_datagen = ImageDataGenerator(rescale=1./255,\n",
    "                                  rotation_range=30,\n",
    "                                  width_shift_range=0.2,\n",
    "                                  height_shift_range=0.2,\n",
    "                                  shear_range=0.2,\n",
    "                                  zoom_range=0.2,\n",
    "                                  horizontal_flip=True,\n",
    "                                  fill_mode='nearest')\n",
    "\n",
    "test_dir = r'C:\\Datasets\\RPC-Tensorflow\\rps-test-set'\n",
    "test_datagen = ImageDataGenerator(rescale=1./255)\n",
    "\n",
    "tran_generator = train_datagen.flow_from_directory(train_dir,\n",
    "                                                  target_size = (150, 150),\n",
    "                                                  batch_size = 20,\n",
    "                                                  class_mode='categorical')\n",
    "\n",
    "test_generator = test_datagen.flow_from_directory(test_dir,\n",
    "                                                 target_size = (150, 150),\n",
    "                                                 batch_size = 20,\n",
    "                                                 class_mode = 'categorical')"
   ]
  },
  {
   "cell_type": "code",
   "execution_count": 4,
   "metadata": {},
   "outputs": [
    {
     "name": "stdout",
     "output_type": "stream",
     "text": [
      "Model: \"sequential\"\n",
      "_________________________________________________________________\n",
      "Layer (type)                 Output Shape              Param #   \n",
      "=================================================================\n",
      "conv2d (Conv2D)              (None, 148, 148, 64)      1792      \n",
      "_________________________________________________________________\n",
      "max_pooling2d (MaxPooling2D) (None, 74, 74, 64)        0         \n",
      "_________________________________________________________________\n",
      "conv2d_1 (Conv2D)            (None, 72, 72, 64)        36928     \n",
      "_________________________________________________________________\n",
      "max_pooling2d_1 (MaxPooling2 (None, 36, 36, 64)        0         \n",
      "_________________________________________________________________\n",
      "conv2d_2 (Conv2D)            (None, 34, 34, 128)       73856     \n",
      "_________________________________________________________________\n",
      "max_pooling2d_2 (MaxPooling2 (None, 17, 17, 128)       0         \n",
      "_________________________________________________________________\n",
      "conv2d_3 (Conv2D)            (None, 15, 15, 128)       147584    \n",
      "_________________________________________________________________\n",
      "max_pooling2d_3 (MaxPooling2 (None, 7, 7, 128)         0         \n",
      "_________________________________________________________________\n",
      "flatten (Flatten)            (None, 6272)              0         \n",
      "_________________________________________________________________\n",
      "dropout (Dropout)            (None, 6272)              0         \n",
      "_________________________________________________________________\n",
      "dense (Dense)                (None, 512)               3211776   \n",
      "_________________________________________________________________\n",
      "dense_1 (Dense)              (None, 3)                 1539      \n",
      "=================================================================\n",
      "Total params: 3,473,475\n",
      "Trainable params: 3,473,475\n",
      "Non-trainable params: 0\n",
      "_________________________________________________________________\n"
     ]
    }
   ],
   "source": [
    "model = keras.models.Sequential([\n",
    "    keras.layers.Conv2D(64, (3,3), activation='relu', input_shape = (150, 150, 3)),\n",
    "    keras.layers.MaxPooling2D(2, 2),\n",
    "    keras.layers.Conv2D(64, (3,3), activation='relu'),\n",
    "    keras.layers.MaxPooling2D(2, 2),\n",
    "    keras.layers.Conv2D(128, (3,3), activation='relu'),\n",
    "    keras.layers.MaxPooling2D(2, 2),\n",
    "    keras.layers.Conv2D(128, (3,3), activation='relu'),\n",
    "    keras.layers.MaxPooling2D(2, 2),\n",
    "    keras.layers.Flatten(),\n",
    "    keras.layers.Dropout(0.5),\n",
    "    keras.layers.Dense(512, activation='relu'),\n",
    "    keras.layers.Dense(3, activation='softmax')\n",
    "])\n",
    "\n",
    "model.summary()"
   ]
  },
  {
   "cell_type": "code",
   "execution_count": 6,
   "metadata": {},
   "outputs": [
    {
     "name": "stdout",
     "output_type": "stream",
     "text": [
      "WARNING:tensorflow:sample_weight modes were coerced from\n",
      "  ...\n",
      "    to  \n",
      "  ['...']\n",
      "WARNING:tensorflow:sample_weight modes were coerced from\n",
      "  ...\n",
      "    to  \n",
      "  ['...']\n",
      "Train for 20 steps, validate for 3 steps\n",
      "Epoch 1/25\n",
      "19/20 [===========================>..] - ETA: 0s - loss: 1.2918 - accuracy: 0.3500\n",
      "Epoch 00001: saving model to model_weight.h5\n",
      "20/20 [==============================] - 8s 391ms/step - loss: 1.2818 - accuracy: 0.3525 - val_loss: 1.1092 - val_accuracy: 0.2667\n",
      "Epoch 2/25\n",
      "19/20 [===========================>..] - ETA: 0s - loss: 1.0993 - accuracy: 0.3342\n",
      "Epoch 00002: saving model to model_weight.h5\n",
      "20/20 [==============================] - 5s 241ms/step - loss: 1.0988 - accuracy: 0.3400 - val_loss: 1.1115 - val_accuracy: 0.2667\n",
      "Epoch 3/25\n",
      "19/20 [===========================>..] - ETA: 0s - loss: 1.1157 - accuracy: 0.3395\n",
      "Epoch 00003: saving model to model_weight.h5\n",
      "20/20 [==============================] - 4s 225ms/step - loss: 1.1153 - accuracy: 0.3325 - val_loss: 1.0951 - val_accuracy: 0.4000\n",
      "Epoch 4/25\n",
      "19/20 [===========================>..] - ETA: 0s - loss: 1.1689 - accuracy: 0.3842\n",
      "Epoch 00004: saving model to model_weight.h5\n",
      "20/20 [==============================] - 4s 224ms/step - loss: 1.1653 - accuracy: 0.3825 - val_loss: 1.0962 - val_accuracy: 0.3833\n",
      "Epoch 5/25\n",
      "19/20 [===========================>..] - ETA: 0s - loss: 1.0490 - accuracy: 0.4632 ETA: 3s - los\n",
      "Epoch 00005: saving model to model_weight.h5\n",
      "20/20 [==============================] - 4s 221ms/step - loss: 1.0480 - accuracy: 0.4725 - val_loss: 0.9988 - val_accuracy: 0.4500\n",
      "Epoch 6/25\n",
      "19/20 [===========================>..] - ETA: 0s - loss: 1.0330 - accuracy: 0.4895\n",
      "Epoch 00006: saving model to model_weight.h5\n",
      "20/20 [==============================] - 4s 215ms/step - loss: 1.0298 - accuracy: 0.4975 - val_loss: 0.8659 - val_accuracy: 0.8167\n",
      "Epoch 7/25\n",
      "19/20 [===========================>..] - ETA: 0s - loss: 1.0028 - accuracy: 0.5158\n",
      "Epoch 00007: saving model to model_weight.h5\n",
      "20/20 [==============================] - 4s 213ms/step - loss: 1.0105 - accuracy: 0.5075 - val_loss: 0.9198 - val_accuracy: 0.7500\n",
      "Epoch 8/25\n",
      "19/20 [===========================>..] - ETA: 0s - loss: 0.8238 - accuracy: 0.6026\n",
      "Epoch 00008: saving model to model_weight.h5\n",
      "20/20 [==============================] - 4s 217ms/step - loss: 1.0094 - accuracy: 0.5875 - val_loss: 0.6585 - val_accuracy: 0.6167\n",
      "Epoch 9/25\n",
      "19/20 [===========================>..] - ETA: 0s - loss: 0.8442 - accuracy: 0.6158\n",
      "Epoch 00009: saving model to model_weight.h5\n",
      "20/20 [==============================] - 4s 218ms/step - loss: 0.8300 - accuracy: 0.6200 - val_loss: 0.4368 - val_accuracy: 0.9167\n",
      "Epoch 10/25\n",
      "19/20 [===========================>..] - ETA: 0s - loss: 0.8186 - accuracy: 0.6658\n",
      "Epoch 00010: saving model to model_weight.h5\n",
      "20/20 [==============================] - 4s 207ms/step - loss: 0.8023 - accuracy: 0.6700 - val_loss: 0.3873 - val_accuracy: 0.8167\n",
      "Epoch 11/25\n",
      "19/20 [===========================>..] - ETA: 0s - loss: 0.6983 - accuracy: 0.6711\n",
      "Epoch 00011: saving model to model_weight.h5\n",
      "20/20 [==============================] - 5s 245ms/step - loss: 0.7197 - accuracy: 0.6725 - val_loss: 0.6221 - val_accuracy: 0.6000\n",
      "Epoch 12/25\n",
      "19/20 [===========================>..] - ETA: 0s - loss: 0.5958 - accuracy: 0.7553\n",
      "Epoch 00012: saving model to model_weight.h5\n",
      "20/20 [==============================] - 5s 236ms/step - loss: 0.6018 - accuracy: 0.7525 - val_loss: 1.3967 - val_accuracy: 0.3667\n",
      "Epoch 13/25\n",
      "19/20 [===========================>..] - ETA: 0s - loss: 0.6332 - accuracy: 0.7237\n",
      "Epoch 00013: saving model to model_weight.h5\n",
      "20/20 [==============================] - 5s 229ms/step - loss: 0.6293 - accuracy: 0.7225 - val_loss: 0.2960 - val_accuracy: 0.7667\n",
      "Epoch 14/25\n",
      "19/20 [===========================>..] - ETA: 0s - loss: 0.5858 - accuracy: 0.7605\n",
      "Epoch 00014: saving model to model_weight.h5\n",
      "20/20 [==============================] - 4s 216ms/step - loss: 0.5664 - accuracy: 0.7675 - val_loss: 0.1934 - val_accuracy: 1.0000\n",
      "Epoch 15/25\n",
      "19/20 [===========================>..] - ETA: 0s - loss: 0.5116 - accuracy: 0.7816\n",
      "Epoch 00015: saving model to model_weight.h5\n",
      "20/20 [==============================] - 4s 225ms/step - loss: 0.5101 - accuracy: 0.7850 - val_loss: 0.2091 - val_accuracy: 0.9333\n",
      "Epoch 16/25\n",
      "19/20 [===========================>..] - ETA: 0s - loss: 0.4240 - accuracy: 0.8553\n",
      "Epoch 00016: saving model to model_weight.h5\n",
      "20/20 [==============================] - 4s 216ms/step - loss: 0.4161 - accuracy: 0.8600 - val_loss: 0.1312 - val_accuracy: 1.0000\n",
      "Epoch 17/25\n",
      "19/20 [===========================>..] - ETA: 0s - loss: 0.4234 - accuracy: 0.8368\n",
      "Epoch 00017: saving model to model_weight.h5\n",
      "20/20 [==============================] - 4s 211ms/step - loss: 0.4173 - accuracy: 0.8400 - val_loss: 0.0838 - val_accuracy: 0.9833\n",
      "Epoch 18/25\n",
      "19/20 [===========================>..] - ETA: 0s - loss: 0.4087 - accuracy: 0.8447\n",
      "Epoch 00018: saving model to model_weight.h5\n",
      "20/20 [==============================] - 4s 217ms/step - loss: 0.4172 - accuracy: 0.8400 - val_loss: 0.1356 - val_accuracy: 0.9667\n",
      "Epoch 19/25\n",
      "19/20 [===========================>..] - ETA: 0s - loss: 0.4391 - accuracy: 0.8526\n",
      "Epoch 00019: saving model to model_weight.h5\n",
      "20/20 [==============================] - 5s 233ms/step - loss: 0.4312 - accuracy: 0.8550 - val_loss: 0.0940 - val_accuracy: 1.0000\n",
      "Epoch 20/25\n",
      "19/20 [===========================>..] - ETA: 0s - loss: 0.3575 - accuracy: 0.8553\n",
      "Epoch 00020: saving model to model_weight.h5\n",
      "20/20 [==============================] - 4s 212ms/step - loss: 0.3535 - accuracy: 0.8625 - val_loss: 0.1597 - val_accuracy: 0.9500\n",
      "Epoch 21/25\n",
      "19/20 [===========================>..] - ETA: 0s - loss: 0.3137 - accuracy: 0.9026\n",
      "Epoch 00021: saving model to model_weight.h5\n",
      "20/20 [==============================] - 4s 212ms/step - loss: 0.3041 - accuracy: 0.9075 - val_loss: 0.0803 - val_accuracy: 1.0000\n",
      "Epoch 22/25\n",
      "19/20 [===========================>..] - ETA: 0s - loss: 0.2674 - accuracy: 0.9000\n",
      "Epoch 00022: saving model to model_weight.h5\n",
      "20/20 [==============================] - 4s 218ms/step - loss: 0.2648 - accuracy: 0.9000 - val_loss: 0.0916 - val_accuracy: 0.9833\n",
      "Epoch 23/25\n",
      "19/20 [===========================>..] - ETA: 0s - loss: 0.3429 - accuracy: 0.8658\n",
      "Epoch 00023: saving model to model_weight.h5\n",
      "20/20 [==============================] - 4s 212ms/step - loss: 0.3407 - accuracy: 0.8675 - val_loss: 0.1225 - val_accuracy: 1.0000\n",
      "Epoch 24/25\n",
      "19/20 [===========================>..] - ETA: 0s - loss: 0.3036 - accuracy: 0.8789\n",
      "Epoch 00024: saving model to model_weight.h5\n",
      "20/20 [==============================] - 4s 208ms/step - loss: 0.3183 - accuracy: 0.8750 - val_loss: 0.1339 - val_accuracy: 0.9667\n",
      "Epoch 25/25\n",
      "19/20 [===========================>..] - ETA: 0s - loss: 0.2552 - accuracy: 0.9184\n",
      "Epoch 00025: saving model to model_weight.h5\n",
      "20/20 [==============================] - 4s 207ms/step - loss: 0.2596 - accuracy: 0.9175 - val_loss: 0.0410 - val_accuracy: 1.0000\n"
     ]
    }
   ],
   "source": [
    "log_dir = r'C:\\Datasets\\RPC-Tensorflow\\TB_log'\n",
    "tensorboard_callback = keras.callbacks.TensorBoard(log_dir=log_dir, histogram_freq=1, embeddings_freq=1)\n",
    "checkpoints = keras.callbacks.ModelCheckpoint(\"model_weight.h5\", monitor='val_accuracy',\n",
    "                                             save_weights_only=True, mode='max', verbose=1)\n",
    "\n",
    "model.compile(loss='categorical_crossentropy', optimizer='rmsprop', metrics=['accuracy'])\n",
    "history = model.fit(tran_generator,\n",
    "                   epochs=25,\n",
    "                   steps_per_epoch=20,\n",
    "                   validation_data=test_generator,\n",
    "                   verbose=1,\n",
    "                   validation_steps=3,\n",
    "                   callbacks=[tensorboard_callback,checkpoints])\n",
    "\n",
    "model.save('RockPapSci-TF.h5')"
   ]
  },
  {
   "cell_type": "code",
   "execution_count": 7,
   "metadata": {},
   "outputs": [
    {
     "data": {
      "image/png": "[encoded data removed]",
      "text/plain": [
       "<Figure size 432x288 with 1 Axes>"
      ]
     },
     "metadata": {
      "needs_background": "light"
     },
     "output_type": "display_data"
    },
    {
     "data": {
      "text/plain": [
       "<Figure size 432x288 with 0 Axes>"
      ]
     },
     "metadata": {},
     "output_type": "display_data"
    }
   ],
   "source": [
    "\n",
    "acc = history.history['accuracy']\n",
    "val_acc = history.history['val_accuracy']\n",
    "loss = history.history['loss']\n",
    "val_loss = history.history['val_loss']\n",
    "\n",
    "epochs = range(len(acc))\n",
    "\n",
    "plt.plot(epochs, acc, 'r', label='Training accuracy')\n",
    "plt.plot(epochs, val_acc, 'b', label='Validation accuracy')\n",
    "plt.title('Training and validation accuracy')\n",
    "plt.legend(loc=0)\n",
    "plt.figure()\n",
    "\n",
    "\n",
    "plt.show()"
   ]
  },
  {
   "cell_type": "code",
   "execution_count": 8,
   "metadata": {},
   "outputs": [],
   "source": [
    "model_json = model.to_json()\n",
    "with open(\"model.json\", \"w\") as json_file:\n",
    "    json_file.write(model_json)"
   ]
  },
  {
   "cell_type": "code",
   "execution_count": null,
   "metadata": {},
   "outputs": [],
   "source": []
  }
 ],
 "metadata": {
  "kernelspec": {
   "display_name": "Python 3",
   "language": "python",
   "name": "python3"
  },
  "language_info": {
   "codemirror_mode": {
    "name": "ipython",
    "version": 3
   },
   "file_extension": ".py",
   "mimetype": "text/x-python",
   "name": "python",
   "nbconvert_exporter": "python",
   "pygments_lexer": "ipython3",
   "version": "3.7.9"
  }
 },
 "nbformat": 4,
 "nbformat_minor": 4
}
